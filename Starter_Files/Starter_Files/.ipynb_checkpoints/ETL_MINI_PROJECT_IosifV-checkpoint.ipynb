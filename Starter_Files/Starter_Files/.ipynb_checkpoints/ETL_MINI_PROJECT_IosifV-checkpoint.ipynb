{
 "cells": [
  {
   "cell_type": "code",
   "execution_count": 88,
   "id": "083bcf2d-479a-4b72-a26d-32167e62bed8",
   "metadata": {},
   "outputs": [],
   "source": [
    "# Import dependencies\n",
    "import pandas as pd\n",
    "import numpy as np\n",
    "pd.set_option('max_colwidth', 400)"
   ]
  },
  {
   "cell_type": "code",
   "execution_count": 89,
   "id": "015f6421-a99b-41b3-a5ee-e5d5eaddfd95",
   "metadata": {},
   "outputs": [
    {
     "data": {
      "text/html": [
       "<div>\n",
       "<style scoped>\n",
       "    .dataframe tbody tr th:only-of-type {\n",
       "        vertical-align: middle;\n",
       "    }\n",
       "\n",
       "    .dataframe tbody tr th {\n",
       "        vertical-align: top;\n",
       "    }\n",
       "\n",
       "    .dataframe thead th {\n",
       "        text-align: right;\n",
       "    }\n",
       "</style>\n",
       "<table border=\"1\" class=\"dataframe\">\n",
       "  <thead>\n",
       "    <tr style=\"text-align: right;\">\n",
       "      <th></th>\n",
       "      <th>cf_id</th>\n",
       "      <th>contact_id</th>\n",
       "      <th>company_name</th>\n",
       "      <th>blurb</th>\n",
       "      <th>goal</th>\n",
       "      <th>pledged</th>\n",
       "      <th>outcome</th>\n",
       "      <th>backers_count</th>\n",
       "      <th>country</th>\n",
       "      <th>currency</th>\n",
       "      <th>launched_at</th>\n",
       "      <th>deadline</th>\n",
       "      <th>staff_pick</th>\n",
       "      <th>spotlight</th>\n",
       "      <th>category &amp; sub-category</th>\n",
       "    </tr>\n",
       "  </thead>\n",
       "  <tbody>\n",
       "    <tr>\n",
       "      <th>0</th>\n",
       "      <td>147</td>\n",
       "      <td>4661</td>\n",
       "      <td>Baldwin, Riley and Jackson</td>\n",
       "      <td>Pre-emptive tertiary standardization</td>\n",
       "      <td>100</td>\n",
       "      <td>0</td>\n",
       "      <td>failed</td>\n",
       "      <td>0</td>\n",
       "      <td>CA</td>\n",
       "      <td>CAD</td>\n",
       "      <td>1581573600</td>\n",
       "      <td>1614578400</td>\n",
       "      <td>False</td>\n",
       "      <td>False</td>\n",
       "      <td>food/food trucks</td>\n",
       "    </tr>\n",
       "    <tr>\n",
       "      <th>1</th>\n",
       "      <td>1621</td>\n",
       "      <td>3765</td>\n",
       "      <td>Odom Inc</td>\n",
       "      <td>Managed bottom-line architecture</td>\n",
       "      <td>1400</td>\n",
       "      <td>14560</td>\n",
       "      <td>successful</td>\n",
       "      <td>158</td>\n",
       "      <td>US</td>\n",
       "      <td>USD</td>\n",
       "      <td>1611554400</td>\n",
       "      <td>1621918800</td>\n",
       "      <td>False</td>\n",
       "      <td>True</td>\n",
       "      <td>music/rock</td>\n",
       "    </tr>\n",
       "    <tr>\n",
       "      <th>2</th>\n",
       "      <td>1812</td>\n",
       "      <td>4187</td>\n",
       "      <td>Melton, Robinson and Fritz</td>\n",
       "      <td>Function-based leadingedge pricing structure</td>\n",
       "      <td>108400</td>\n",
       "      <td>142523</td>\n",
       "      <td>successful</td>\n",
       "      <td>1425</td>\n",
       "      <td>AU</td>\n",
       "      <td>AUD</td>\n",
       "      <td>1608184800</td>\n",
       "      <td>1640844000</td>\n",
       "      <td>False</td>\n",
       "      <td>False</td>\n",
       "      <td>technology/web</td>\n",
       "    </tr>\n",
       "    <tr>\n",
       "      <th>3</th>\n",
       "      <td>2156</td>\n",
       "      <td>4941</td>\n",
       "      <td>Mcdonald, Gonzalez and Ross</td>\n",
       "      <td>Vision-oriented fresh-thinking conglomeration</td>\n",
       "      <td>4200</td>\n",
       "      <td>2477</td>\n",
       "      <td>failed</td>\n",
       "      <td>24</td>\n",
       "      <td>US</td>\n",
       "      <td>USD</td>\n",
       "      <td>1634792400</td>\n",
       "      <td>1642399200</td>\n",
       "      <td>False</td>\n",
       "      <td>False</td>\n",
       "      <td>music/rock</td>\n",
       "    </tr>\n",
       "    <tr>\n",
       "      <th>4</th>\n",
       "      <td>1365</td>\n",
       "      <td>2199</td>\n",
       "      <td>Larson-Little</td>\n",
       "      <td>Proactive foreground core</td>\n",
       "      <td>7600</td>\n",
       "      <td>5265</td>\n",
       "      <td>failed</td>\n",
       "      <td>53</td>\n",
       "      <td>US</td>\n",
       "      <td>USD</td>\n",
       "      <td>1608530400</td>\n",
       "      <td>1629694800</td>\n",
       "      <td>False</td>\n",
       "      <td>False</td>\n",
       "      <td>theater/plays</td>\n",
       "    </tr>\n",
       "  </tbody>\n",
       "</table>\n",
       "</div>"
      ],
      "text/plain": [
       "   cf_id  contact_id                 company_name  \\\n",
       "0    147        4661   Baldwin, Riley and Jackson   \n",
       "1   1621        3765                     Odom Inc   \n",
       "2   1812        4187   Melton, Robinson and Fritz   \n",
       "3   2156        4941  Mcdonald, Gonzalez and Ross   \n",
       "4   1365        2199                Larson-Little   \n",
       "\n",
       "                                           blurb    goal  pledged     outcome  \\\n",
       "0           Pre-emptive tertiary standardization     100        0      failed   \n",
       "1               Managed bottom-line architecture    1400    14560  successful   \n",
       "2   Function-based leadingedge pricing structure  108400   142523  successful   \n",
       "3  Vision-oriented fresh-thinking conglomeration    4200     2477      failed   \n",
       "4                      Proactive foreground core    7600     5265      failed   \n",
       "\n",
       "   backers_count country currency  launched_at    deadline  staff_pick  \\\n",
       "0              0      CA      CAD   1581573600  1614578400       False   \n",
       "1            158      US      USD   1611554400  1621918800       False   \n",
       "2           1425      AU      AUD   1608184800  1640844000       False   \n",
       "3             24      US      USD   1634792400  1642399200       False   \n",
       "4             53      US      USD   1608530400  1629694800       False   \n",
       "\n",
       "   spotlight category & sub-category  \n",
       "0      False        food/food trucks  \n",
       "1       True              music/rock  \n",
       "2      False          technology/web  \n",
       "3      False              music/rock  \n",
       "4      False           theater/plays  "
      ]
     },
     "execution_count": 89,
     "metadata": {},
     "output_type": "execute_result"
    }
   ],
   "source": [
    "# Read the data into a Pandas DataFrame\n",
    "crowdfunding_info_df = pd.read_excel('Resources/crowdfunding.xlsx')\n",
    "crowdfunding_info_df.head()"
   ]
  },
  {
   "cell_type": "code",
   "execution_count": 90,
   "id": "a8d5afdc-71dd-4871-9a48-de77bb26d50b",
   "metadata": {},
   "outputs": [],
   "source": [
    "# Extract the category column and split it to get only the category titles\n",
    "categories = crowdfunding_info_df['category & sub-category'].str.split('/', expand=True)[0]"
   ]
  },
  {
   "cell_type": "code",
   "execution_count": 91,
   "id": "18149c7d-37cb-4e5d-809c-2b1585b36d0e",
   "metadata": {},
   "outputs": [],
   "source": [
    "# Drop duplicates to get unique categories and reset index\n",
    "unique_categories = categories.drop_duplicates().reset_index(drop=True)"
   ]
  },
  {
   "cell_type": "code",
   "execution_count": 92,
   "id": "1bd21304-bfa9-4cfd-a057-db4bd9857973",
   "metadata": {},
   "outputs": [],
   "source": [
    "# Create the category_id column\n",
    "category_ids = [f'cat{i+1}' for i in range(len(unique_categories))]"
   ]
  },
  {
   "cell_type": "code",
   "execution_count": 93,
   "id": "818e7185-a842-4df3-95e2-b772d36a9fca",
   "metadata": {},
   "outputs": [],
   "source": [
    "# Create the category DataFrame\n",
    "category_df = pd.DataFrame({\n",
    "    'category_id': category_ids,\n",
    "    'category': unique_categories})"
   ]
  },
  {
   "cell_type": "code",
   "execution_count": 94,
   "id": "5128758f-d6ae-4154-8c4b-59f6035dae66",
   "metadata": {},
   "outputs": [],
   "source": [
    "# Export the category DataFrame as category.csv\n",
    "category_df.to_csv('Resources/category.csv', index=False)"
   ]
  },
  {
   "cell_type": "code",
   "execution_count": 95,
   "id": "c06cb3f5-45b1-4871-80fe-eafdc0c7b3ec",
   "metadata": {},
   "outputs": [],
   "source": [
    "# Extract the subcategory column and split it to get only the subcategory titles\n",
    "subcategories = crowdfunding_info_df['category & sub-category'].str.split('/', expand=True)[1]\n"
   ]
  },
  {
   "cell_type": "code",
   "execution_count": 96,
   "id": "45427260-d20f-4937-8c55-1899fe77d0fe",
   "metadata": {},
   "outputs": [],
   "source": [
    "# Drop duplicates to get unique subcategories and reset index\n",
    "unique_subcategories = subcategories.drop_duplicates().reset_index(drop=True)"
   ]
  },
  {
   "cell_type": "code",
   "execution_count": 97,
   "id": "d6aa91f3-e5ed-4fee-bebc-b62f1f139599",
   "metadata": {},
   "outputs": [],
   "source": [
    "# Create the subcategory_id column\n",
    "subcategory_ids = [f'subcat{i+1}' for i in range(len(unique_subcategories))]"
   ]
  },
  {
   "cell_type": "code",
   "execution_count": 98,
   "id": "9a50d21d-2fa0-4763-8a96-ce9ed62d7f28",
   "metadata": {},
   "outputs": [],
   "source": [
    "# Create the subcategory DataFrame\n",
    "subcategory_df = pd.DataFrame({\n",
    "    'subcategory_id': subcategory_ids,\n",
    "    'subcategory': unique_subcategories})\n"
   ]
  },
  {
   "cell_type": "code",
   "execution_count": 99,
   "id": "bdc2eaf0-e2f7-4691-827b-43a08a564f8c",
   "metadata": {},
   "outputs": [
    {
     "data": {
      "text/html": [
       "<div>\n",
       "<style scoped>\n",
       "    .dataframe tbody tr th:only-of-type {\n",
       "        vertical-align: middle;\n",
       "    }\n",
       "\n",
       "    .dataframe tbody tr th {\n",
       "        vertical-align: top;\n",
       "    }\n",
       "\n",
       "    .dataframe thead th {\n",
       "        text-align: right;\n",
       "    }\n",
       "</style>\n",
       "<table border=\"1\" class=\"dataframe\">\n",
       "  <thead>\n",
       "    <tr style=\"text-align: right;\">\n",
       "      <th></th>\n",
       "      <th>subcategory_id</th>\n",
       "      <th>subcategory</th>\n",
       "    </tr>\n",
       "  </thead>\n",
       "  <tbody>\n",
       "    <tr>\n",
       "      <th>0</th>\n",
       "      <td>subcat1</td>\n",
       "      <td>food trucks</td>\n",
       "    </tr>\n",
       "    <tr>\n",
       "      <th>1</th>\n",
       "      <td>subcat2</td>\n",
       "      <td>rock</td>\n",
       "    </tr>\n",
       "    <tr>\n",
       "      <th>2</th>\n",
       "      <td>subcat3</td>\n",
       "      <td>web</td>\n",
       "    </tr>\n",
       "    <tr>\n",
       "      <th>3</th>\n",
       "      <td>subcat4</td>\n",
       "      <td>plays</td>\n",
       "    </tr>\n",
       "    <tr>\n",
       "      <th>4</th>\n",
       "      <td>subcat5</td>\n",
       "      <td>documentary</td>\n",
       "    </tr>\n",
       "  </tbody>\n",
       "</table>\n",
       "</div>"
      ],
      "text/plain": [
       "  subcategory_id  subcategory\n",
       "0        subcat1  food trucks\n",
       "1        subcat2         rock\n",
       "2        subcat3          web\n",
       "3        subcat4        plays\n",
       "4        subcat5  documentary"
      ]
     },
     "execution_count": 99,
     "metadata": {},
     "output_type": "execute_result"
    }
   ],
   "source": [
    "# Export the subcategory DataFrame as subcategory.csv\n",
    "subcategory_df.to_csv('Resources/subcategory.csv', index=False)\n",
    "\n",
    "subcategory_df.head()"
   ]
  },
  {
   "cell_type": "code",
   "execution_count": 100,
   "id": "1b6c2bf5-3bb9-4247-8ca7-5d4a1f82620b",
   "metadata": {},
   "outputs": [],
   "source": [
    "# Extract the category column and split it to get only the category titles\n",
    "categories = crowdfunding_info_df['category & sub-category'].str.split('/', expand=True)[0]"
   ]
  },
  {
   "cell_type": "code",
   "execution_count": 101,
   "id": "ec550083-1e9b-4469-b495-da5330290adc",
   "metadata": {},
   "outputs": [],
   "source": [
    "# Drop duplicates to get unique categories and reset index\n",
    "unique_categories = categories.drop_duplicates().reset_index(drop=True)"
   ]
  },
  {
   "cell_type": "code",
   "execution_count": 102,
   "id": "830fa33d-1512-4752-ab11-d540895e3ecb",
   "metadata": {},
   "outputs": [],
   "source": [
    "# Create the category_id column\n",
    "category_ids = [f'cat{i+1}' for i in range(len(unique_categories))]\n"
   ]
  },
  {
   "cell_type": "code",
   "execution_count": 103,
   "id": "cba821f2-9f32-45ec-8d71-7068f15e6ff1",
   "metadata": {},
   "outputs": [],
   "source": [
    "# Create the category DataFrame\n",
    "category_df = pd.DataFrame({\n",
    "    'category_id': category_ids,\n",
    "    'category': unique_categories})\n"
   ]
  },
  {
   "cell_type": "code",
   "execution_count": 104,
   "id": "81d33322-40b8-4a40-bcbd-f27203240d93",
   "metadata": {},
   "outputs": [],
   "source": [
    "# Extract the subcategory column and split it to get only the subcategory titles\n",
    "subcategories = crowdfunding_info_df['category & sub-category'].str.split('/', expand=True)[1]"
   ]
  },
  {
   "cell_type": "code",
   "execution_count": 105,
   "id": "3126fd94-a5cd-4905-a8b6-75f1dc7c37b5",
   "metadata": {},
   "outputs": [],
   "source": [
    "# Drop duplicates to get unique subcategories and reset index\n",
    "unique_subcategories = subcategories.drop_duplicates().reset_index(drop=True)"
   ]
  },
  {
   "cell_type": "code",
   "execution_count": 106,
   "id": "5a78b383-6584-486a-a25b-e9a89834c5b4",
   "metadata": {},
   "outputs": [],
   "source": [
    "# Create the subcategory_id column\n",
    "subcategory_ids = [f'subcat{i+1}' for i in range(len(unique_subcategories))]\n"
   ]
  },
  {
   "cell_type": "code",
   "execution_count": 107,
   "id": "e18ba0c9-2453-40c6-97d0-917037a37b37",
   "metadata": {},
   "outputs": [],
   "source": [
    "# Create the subcategory DataFrame\n",
    "subcategory_df = pd.DataFrame({\n",
    "    'subcategory_id': subcategory_ids,\n",
    "    'subcategory': unique_subcategories})\n"
   ]
  },
  {
   "cell_type": "code",
   "execution_count": 108,
   "id": "fdef04e1-04f2-4fc4-af06-62366c5a15b4",
   "metadata": {},
   "outputs": [],
   "source": [
    "# Extract necessary columns and rename them\n",
    "campaign_df = crowdfunding_info_df[[\n",
    "    'cf_id', 'contact_id', 'company_name', 'blurb', 'goal', 'pledged',\n",
    "    'outcome', 'backers_count', 'country', 'currency', 'launched_at', 'deadline',\n",
    "    'category & sub-category']].rename(columns={'blurb': 'description','launched_at': 'launch_date','deadline': 'end_date'})\n"
   ]
  },
  {
   "cell_type": "code",
   "execution_count": 109,
   "id": "76fe6502-322b-4e23-ab87-39236e8dced5",
   "metadata": {},
   "outputs": [],
   "source": [
    "# Convert 'goal' and 'pledged' columns to float\n",
    "campaign_df['goal'] = campaign_df['goal'].astype(float)\n",
    "campaign_df['pledged'] = campaign_df['pledged'].astype(float)"
   ]
  },
  {
   "cell_type": "code",
   "execution_count": 110,
   "id": "26d48cf5-cc9a-4a4a-891f-13d1706cdb1d",
   "metadata": {},
   "outputs": [],
   "source": [
    "# Convert 'launch_date' and 'end_date' columns to datetime\n",
    "campaign_df['launch_date'] = pd.to_datetime(campaign_df['launch_date'],).dt.strftime('%Y-%m-%d')\n",
    "campaign_df['end_date'] = pd.to_datetime(campaign_df['end_date'],).dt.strftime('%Y-%m-%d')\n"
   ]
  },
  {
   "cell_type": "code",
   "execution_count": 111,
   "id": "89abbb1e-ee42-4769-bf68-c085db84ba68",
   "metadata": {},
   "outputs": [],
   "source": [
    "# Extract category and subcategory titles\n",
    "campaign_df['category'] = crowdfunding_info_df['category & sub-category'].str.split('/', expand=True)[0]\n",
    "campaign_df['subcategory'] = crowdfunding_info_df['category & sub-category'].str.split('/', expand=True)[1]\n"
   ]
  },
  {
   "cell_type": "code",
   "execution_count": 112,
   "id": "2252cbe5-7287-4fa1-af55-52189f0a2f5c",
   "metadata": {},
   "outputs": [],
   "source": [
    "# Merge with category DataFrame to get category_id\n",
    "campaign_df = campaign_df.merge(category_df, how='left', left_on='category', right_on='category')"
   ]
  },
  {
   "cell_type": "code",
   "execution_count": 113,
   "id": "512fe3dd-7650-43a7-9a69-b789c21dcb8f",
   "metadata": {},
   "outputs": [],
   "source": [
    "# Merge with subcategory DataFrame to get subcategory_id\n",
    "campaign_df = campaign_df.merge(subcategory_df, how='left', left_on='subcategory', right_on='subcategory')\n"
   ]
  },
  {
   "cell_type": "code",
   "execution_count": 114,
   "id": "c135ff96-1a65-47a6-81fa-5af9e30be236",
   "metadata": {},
   "outputs": [],
   "source": [
    "# Select and reorder the necessary columns\n",
    "campaign_df = campaign_df[[\n",
    "    'cf_id', 'contact_id', 'company_name', 'description', 'goal', 'pledged',\n",
    "    'outcome', 'backers_count', 'country', 'currency', 'launch_date', 'end_date',\n",
    "    'category_id', 'subcategory_id']]\n"
   ]
  },
  {
   "cell_type": "code",
   "execution_count": 115,
   "id": "0f080d6d-3669-419c-96f4-152a426ea80e",
   "metadata": {},
   "outputs": [
    {
     "data": {
      "text/html": [
       "<div>\n",
       "<style scoped>\n",
       "    .dataframe tbody tr th:only-of-type {\n",
       "        vertical-align: middle;\n",
       "    }\n",
       "\n",
       "    .dataframe tbody tr th {\n",
       "        vertical-align: top;\n",
       "    }\n",
       "\n",
       "    .dataframe thead th {\n",
       "        text-align: right;\n",
       "    }\n",
       "</style>\n",
       "<table border=\"1\" class=\"dataframe\">\n",
       "  <thead>\n",
       "    <tr style=\"text-align: right;\">\n",
       "      <th></th>\n",
       "      <th>cf_id</th>\n",
       "      <th>contact_id</th>\n",
       "      <th>company_name</th>\n",
       "      <th>description</th>\n",
       "      <th>goal</th>\n",
       "      <th>pledged</th>\n",
       "      <th>outcome</th>\n",
       "      <th>backers_count</th>\n",
       "      <th>country</th>\n",
       "      <th>currency</th>\n",
       "      <th>launch_date</th>\n",
       "      <th>end_date</th>\n",
       "      <th>category_id</th>\n",
       "      <th>subcategory_id</th>\n",
       "    </tr>\n",
       "  </thead>\n",
       "  <tbody>\n",
       "    <tr>\n",
       "      <th>0</th>\n",
       "      <td>147</td>\n",
       "      <td>4661</td>\n",
       "      <td>Baldwin, Riley and Jackson</td>\n",
       "      <td>Pre-emptive tertiary standardization</td>\n",
       "      <td>100.0</td>\n",
       "      <td>0.0</td>\n",
       "      <td>failed</td>\n",
       "      <td>0</td>\n",
       "      <td>CA</td>\n",
       "      <td>CAD</td>\n",
       "      <td>1970-01-01</td>\n",
       "      <td>1970-01-01</td>\n",
       "      <td>cat1</td>\n",
       "      <td>subcat1</td>\n",
       "    </tr>\n",
       "    <tr>\n",
       "      <th>1</th>\n",
       "      <td>1621</td>\n",
       "      <td>3765</td>\n",
       "      <td>Odom Inc</td>\n",
       "      <td>Managed bottom-line architecture</td>\n",
       "      <td>1400.0</td>\n",
       "      <td>14560.0</td>\n",
       "      <td>successful</td>\n",
       "      <td>158</td>\n",
       "      <td>US</td>\n",
       "      <td>USD</td>\n",
       "      <td>1970-01-01</td>\n",
       "      <td>1970-01-01</td>\n",
       "      <td>cat2</td>\n",
       "      <td>subcat2</td>\n",
       "    </tr>\n",
       "    <tr>\n",
       "      <th>2</th>\n",
       "      <td>1812</td>\n",
       "      <td>4187</td>\n",
       "      <td>Melton, Robinson and Fritz</td>\n",
       "      <td>Function-based leadingedge pricing structure</td>\n",
       "      <td>108400.0</td>\n",
       "      <td>142523.0</td>\n",
       "      <td>successful</td>\n",
       "      <td>1425</td>\n",
       "      <td>AU</td>\n",
       "      <td>AUD</td>\n",
       "      <td>1970-01-01</td>\n",
       "      <td>1970-01-01</td>\n",
       "      <td>cat3</td>\n",
       "      <td>subcat3</td>\n",
       "    </tr>\n",
       "    <tr>\n",
       "      <th>3</th>\n",
       "      <td>2156</td>\n",
       "      <td>4941</td>\n",
       "      <td>Mcdonald, Gonzalez and Ross</td>\n",
       "      <td>Vision-oriented fresh-thinking conglomeration</td>\n",
       "      <td>4200.0</td>\n",
       "      <td>2477.0</td>\n",
       "      <td>failed</td>\n",
       "      <td>24</td>\n",
       "      <td>US</td>\n",
       "      <td>USD</td>\n",
       "      <td>1970-01-01</td>\n",
       "      <td>1970-01-01</td>\n",
       "      <td>cat2</td>\n",
       "      <td>subcat2</td>\n",
       "    </tr>\n",
       "    <tr>\n",
       "      <th>4</th>\n",
       "      <td>1365</td>\n",
       "      <td>2199</td>\n",
       "      <td>Larson-Little</td>\n",
       "      <td>Proactive foreground core</td>\n",
       "      <td>7600.0</td>\n",
       "      <td>5265.0</td>\n",
       "      <td>failed</td>\n",
       "      <td>53</td>\n",
       "      <td>US</td>\n",
       "      <td>USD</td>\n",
       "      <td>1970-01-01</td>\n",
       "      <td>1970-01-01</td>\n",
       "      <td>cat4</td>\n",
       "      <td>subcat4</td>\n",
       "    </tr>\n",
       "  </tbody>\n",
       "</table>\n",
       "</div>"
      ],
      "text/plain": [
       "   cf_id  contact_id                 company_name  \\\n",
       "0    147        4661   Baldwin, Riley and Jackson   \n",
       "1   1621        3765                     Odom Inc   \n",
       "2   1812        4187   Melton, Robinson and Fritz   \n",
       "3   2156        4941  Mcdonald, Gonzalez and Ross   \n",
       "4   1365        2199                Larson-Little   \n",
       "\n",
       "                                     description      goal   pledged  \\\n",
       "0           Pre-emptive tertiary standardization     100.0       0.0   \n",
       "1               Managed bottom-line architecture    1400.0   14560.0   \n",
       "2   Function-based leadingedge pricing structure  108400.0  142523.0   \n",
       "3  Vision-oriented fresh-thinking conglomeration    4200.0    2477.0   \n",
       "4                      Proactive foreground core    7600.0    5265.0   \n",
       "\n",
       "      outcome  backers_count country currency launch_date    end_date  \\\n",
       "0      failed              0      CA      CAD  1970-01-01  1970-01-01   \n",
       "1  successful            158      US      USD  1970-01-01  1970-01-01   \n",
       "2  successful           1425      AU      AUD  1970-01-01  1970-01-01   \n",
       "3      failed             24      US      USD  1970-01-01  1970-01-01   \n",
       "4      failed             53      US      USD  1970-01-01  1970-01-01   \n",
       "\n",
       "  category_id subcategory_id  \n",
       "0        cat1        subcat1  \n",
       "1        cat2        subcat2  \n",
       "2        cat3        subcat3  \n",
       "3        cat2        subcat2  \n",
       "4        cat4        subcat4  "
      ]
     },
     "execution_count": 115,
     "metadata": {},
     "output_type": "execute_result"
    }
   ],
   "source": [
    "# Export the campaign DataFrame as campaign.csv\n",
    "campaign_df.to_csv('Resources/campaign.csv', index=False)\n",
    "\n",
    "campaign_df.head()\n"
   ]
  },
  {
   "cell_type": "code",
   "execution_count": 116,
   "id": "8e30e5bc-b20b-45b3-ab45-2c76326bcd4c",
   "metadata": {},
   "outputs": [],
   "source": [
    "# Load the contacts Excel file and read the data\n",
    "contacts_df = pd.read_excel('Resources/contacts.xlsx', header=None)\n"
   ]
  },
  {
   "cell_type": "code",
   "execution_count": 117,
   "id": "8169565b-dcdb-4732-bcac-adb63b00b5c1",
   "metadata": {},
   "outputs": [],
   "source": [
    "# Extract the relevant rows containing the contact information\n",
    "contact_info_rows = contacts_df.iloc[4:].squeeze()\n"
   ]
  },
  {
   "cell_type": "code",
   "execution_count": 118,
   "id": "4cd1461d-26b3-456f-95db-a4b3c0a2f377",
   "metadata": {},
   "outputs": [],
   "source": [
    "# Define a regular expression pattern to extract contact_id, name, and email\n",
    "import re\n",
    "\n",
    "pattern = re.compile(r'\"contact_id\": (\\d+), \"name\": \"([^\"]+)\", \"email\": \"([^\"]+)\"')"
   ]
  },
  {
   "cell_type": "code",
   "execution_count": 119,
   "id": "0c4f8d40-52a6-4354-95bf-b0d719725a50",
   "metadata": {},
   "outputs": [],
   "source": [
    "# Initialize lists to store the extracted data\n",
    "contact_ids = []\n",
    "names = []\n",
    "emails = []\n"
   ]
  },
  {
   "cell_type": "code",
   "execution_count": 120,
   "id": "bed4ec18-221a-4a70-a832-cb092ac17a26",
   "metadata": {},
   "outputs": [],
   "source": [
    "# Iterate through the rows and extract data using the regular expression\n",
    "for row in contact_info_rows:\n",
    "    match = pattern.search(str(row))\n",
    "    if match:\n",
    "        contact_ids.append(int(match.group(1)))\n",
    "        names.append(match.group(2))\n",
    "        emails.append(match.group(3))\n"
   ]
  },
  {
   "cell_type": "code",
   "execution_count": 121,
   "id": "0bd781f5-0b76-4909-a271-c32c7c808aa5",
   "metadata": {},
   "outputs": [],
   "source": [
    "# Create a new DataFrame with the extracted data\n",
    "added_contacts_df = pd.DataFrame({\n",
    "    'contact_id': contact_ids,'name': names,'email': emails})\n"
   ]
  },
  {
   "cell_type": "code",
   "execution_count": 122,
   "id": "76595cfb-0281-4cc2-94f1-b8de4d35b285",
   "metadata": {},
   "outputs": [],
   "source": [
    "# Split each \"name\" column value into a first and last name, and place each in a new column"
   ]
  },
  {
   "cell_type": "code",
   "execution_count": 123,
   "id": "f8299f0c-da3b-47c6-98d1-fae0a14cd9ff",
   "metadata": {},
   "outputs": [
    {
     "name": "stdout",
     "output_type": "stream",
     "text": [
      "Before splitting names:\n",
      "    contact_id               name                         email\n",
      "0        4661    Cecilia Velasco  cecilia.velasco@rodrigues.fr\n",
      "1        3765      Mariana Ellis       mariana.ellis@rossi.org\n",
      "2        4187        Sofie Woods       sofie.woods@riviere.com\n",
      "3        4941  Jeanette Iannotti   jeanette.iannotti@yahoo.com\n",
      "4        2199     Samuel Sorgatz      samuel.sorgatz@gmail.com\n"
     ]
    }
   ],
   "source": [
    "# Display the DataFrame before splitting names\n",
    "print(\"Before splitting names:\\n\", added_contacts_df.head())"
   ]
  },
  {
   "cell_type": "code",
   "execution_count": 124,
   "id": "a34614b2-cbc6-4cf1-8ca4-d1e004a61cbb",
   "metadata": {},
   "outputs": [],
   "source": [
    "added_contacts_df[['first_name', 'last_name']] = added_contacts_df['name'].str.split(' ', n=1, expand=True)"
   ]
  },
  {
   "cell_type": "code",
   "execution_count": 125,
   "id": "f6a1b368-ea21-43bc-bce0-5220a461a3df",
   "metadata": {},
   "outputs": [
    {
     "name": "stdout",
     "output_type": "stream",
     "text": [
      "After splitting names:\n",
      "    contact_id               name                         email first_name  \\\n",
      "0        4661    Cecilia Velasco  cecilia.velasco@rodrigues.fr    Cecilia   \n",
      "1        3765      Mariana Ellis       mariana.ellis@rossi.org    Mariana   \n",
      "2        4187        Sofie Woods       sofie.woods@riviere.com      Sofie   \n",
      "3        4941  Jeanette Iannotti   jeanette.iannotti@yahoo.com   Jeanette   \n",
      "4        2199     Samuel Sorgatz      samuel.sorgatz@gmail.com     Samuel   \n",
      "\n",
      "  last_name  \n",
      "0   Velasco  \n",
      "1     Ellis  \n",
      "2     Woods  \n",
      "3  Iannotti  \n",
      "4   Sorgatz  \n"
     ]
    }
   ],
   "source": [
    "# Display the DataFrame after splitting names\n",
    "print(\"After splitting names:\\n\", added_contacts_df.head())"
   ]
  },
  {
   "cell_type": "code",
   "execution_count": 126,
   "id": "f47fbaf0-4106-47ae-aedc-e7947189c0c9",
   "metadata": {},
   "outputs": [],
   "source": [
    "added_contacts_df = added_contacts_df[['contact_id', 'first_name', 'last_name', 'email']]"
   ]
  },
  {
   "cell_type": "code",
   "execution_count": 127,
   "id": "8cdeeebb-92f5-4fac-a79f-c1413158dd59",
   "metadata": {},
   "outputs": [
    {
     "data": {
      "text/html": [
       "<div>\n",
       "<style scoped>\n",
       "    .dataframe tbody tr th:only-of-type {\n",
       "        vertical-align: middle;\n",
       "    }\n",
       "\n",
       "    .dataframe tbody tr th {\n",
       "        vertical-align: top;\n",
       "    }\n",
       "\n",
       "    .dataframe thead th {\n",
       "        text-align: right;\n",
       "    }\n",
       "</style>\n",
       "<table border=\"1\" class=\"dataframe\">\n",
       "  <thead>\n",
       "    <tr style=\"text-align: right;\">\n",
       "      <th></th>\n",
       "      <th>contact_id</th>\n",
       "      <th>first_name</th>\n",
       "      <th>last_name</th>\n",
       "      <th>email</th>\n",
       "    </tr>\n",
       "  </thead>\n",
       "  <tbody>\n",
       "    <tr>\n",
       "      <th>0</th>\n",
       "      <td>4661</td>\n",
       "      <td>Cecilia</td>\n",
       "      <td>Velasco</td>\n",
       "      <td>cecilia.velasco@rodrigues.fr</td>\n",
       "    </tr>\n",
       "    <tr>\n",
       "      <th>1</th>\n",
       "      <td>3765</td>\n",
       "      <td>Mariana</td>\n",
       "      <td>Ellis</td>\n",
       "      <td>mariana.ellis@rossi.org</td>\n",
       "    </tr>\n",
       "    <tr>\n",
       "      <th>2</th>\n",
       "      <td>4187</td>\n",
       "      <td>Sofie</td>\n",
       "      <td>Woods</td>\n",
       "      <td>sofie.woods@riviere.com</td>\n",
       "    </tr>\n",
       "    <tr>\n",
       "      <th>3</th>\n",
       "      <td>4941</td>\n",
       "      <td>Jeanette</td>\n",
       "      <td>Iannotti</td>\n",
       "      <td>jeanette.iannotti@yahoo.com</td>\n",
       "    </tr>\n",
       "    <tr>\n",
       "      <th>4</th>\n",
       "      <td>2199</td>\n",
       "      <td>Samuel</td>\n",
       "      <td>Sorgatz</td>\n",
       "      <td>samuel.sorgatz@gmail.com</td>\n",
       "    </tr>\n",
       "  </tbody>\n",
       "</table>\n",
       "</div>"
      ],
      "text/plain": [
       "   contact_id first_name last_name                         email\n",
       "0        4661    Cecilia   Velasco  cecilia.velasco@rodrigues.fr\n",
       "1        3765    Mariana     Ellis       mariana.ellis@rossi.org\n",
       "2        4187      Sofie     Woods       sofie.woods@riviere.com\n",
       "3        4941   Jeanette  Iannotti   jeanette.iannotti@yahoo.com\n",
       "4        2199     Samuel   Sorgatz      samuel.sorgatz@gmail.com"
      ]
     },
     "execution_count": 127,
     "metadata": {},
     "output_type": "execute_result"
    }
   ],
   "source": [
    "# Clean the DataFrame and export it as contacts.csv\n",
    "added_contacts_df.to_csv('Resources/contacts.csv', index=False)\n",
    "added_contacts_df.head()"
   ]
  },
  {
   "cell_type": "code",
   "execution_count": null,
   "id": "895e98d9-df3c-49ad-8b5d-66e4f6ece99c",
   "metadata": {},
   "outputs": [],
   "source": []
  },
  {
   "cell_type": "code",
   "execution_count": null,
   "id": "47bc7bfb-4659-4eb0-81e2-5cb7ae6169e2",
   "metadata": {},
   "outputs": [],
   "source": []
  },
  {
   "cell_type": "code",
   "execution_count": null,
   "id": "6f40a2f6-cf27-408b-ada2-5629e8797226",
   "metadata": {},
   "outputs": [],
   "source": []
  },
  {
   "cell_type": "code",
   "execution_count": null,
   "id": "5d934117-4ac2-4973-abd6-c4cee13c3c25",
   "metadata": {},
   "outputs": [],
   "source": []
  },
  {
   "cell_type": "code",
   "execution_count": null,
   "id": "67d772fa-8c6f-4b7e-a1dc-aa302894a4e0",
   "metadata": {},
   "outputs": [],
   "source": []
  },
  {
   "cell_type": "code",
   "execution_count": null,
   "id": "e4583611-7ffc-44bf-a57f-80a2cf318df5",
   "metadata": {},
   "outputs": [],
   "source": []
  },
  {
   "cell_type": "code",
   "execution_count": null,
   "id": "58297cba-6946-4fab-b719-e8013492f945",
   "metadata": {},
   "outputs": [],
   "source": []
  },
  {
   "cell_type": "code",
   "execution_count": null,
   "id": "b1829bff-dd0f-40f9-a2ef-0088c9910142",
   "metadata": {},
   "outputs": [],
   "source": []
  },
  {
   "cell_type": "code",
   "execution_count": null,
   "id": "21d3e824-ac57-498e-9562-ce86f02aff92",
   "metadata": {},
   "outputs": [],
   "source": []
  },
  {
   "cell_type": "code",
   "execution_count": null,
   "id": "388fef9b-1eb6-4ab7-96a5-83ff8c058b4e",
   "metadata": {},
   "outputs": [],
   "source": []
  }
 ],
 "metadata": {
  "kernelspec": {
   "display_name": "Python 3 (ipykernel)",
   "language": "python",
   "name": "python3"
  },
  "language_info": {
   "codemirror_mode": {
    "name": "ipython",
    "version": 3
   },
   "file_extension": ".py",
   "mimetype": "text/x-python",
   "name": "python",
   "nbconvert_exporter": "python",
   "pygments_lexer": "ipython3",
   "version": "3.11.7"
  }
 },
 "nbformat": 4,
 "nbformat_minor": 5
}
